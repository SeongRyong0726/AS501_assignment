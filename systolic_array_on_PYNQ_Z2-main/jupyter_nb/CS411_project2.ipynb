{
 "cells": [
  {
   "cell_type": "code",
   "execution_count": 1,
   "id": "09ac11c9",
   "metadata": {},
   "outputs": [
    {
     "data": {
      "application/javascript": [
       "\n",
       "try {\n",
       "require(['notebook/js/codecell'], function(codecell) {\n",
       "  codecell.CodeCell.options_default.highlight_modes[\n",
       "      'magic_text/x-csrc'] = {'reg':[/^%%microblaze/]};\n",
       "  Jupyter.notebook.events.one('kernel_ready.Kernel', function(){\n",
       "      Jupyter.notebook.get_cells().map(function(cell){\n",
       "          if (cell.cell_type == 'code'){ cell.auto_highlight(); } }) ;\n",
       "  });\n",
       "});\n",
       "} catch (e) {};\n"
      ]
     },
     "metadata": {},
     "output_type": "display_data"
    },
    {
     "data": {
      "application/javascript": [
       "\n",
       "try {\n",
       "require(['notebook/js/codecell'], function(codecell) {\n",
       "  codecell.CodeCell.options_default.highlight_modes[\n",
       "      'magic_text/x-csrc'] = {'reg':[/^%%pybind11/]};\n",
       "  Jupyter.notebook.events.one('kernel_ready.Kernel', function(){\n",
       "      Jupyter.notebook.get_cells().map(function(cell){\n",
       "          if (cell.cell_type == 'code'){ cell.auto_highlight(); } }) ;\n",
       "  });\n",
       "});\n",
       "} catch (e) {};\n"
      ]
     },
     "metadata": {},
     "output_type": "display_data"
    }
   ],
   "source": [
    "from pynq import Overlay\n",
    "ol = Overlay(\"CS411_team0.bit\")"
   ]
  },
  {
   "cell_type": "code",
   "execution_count": 2,
   "id": "219e6147",
   "metadata": {},
   "outputs": [],
   "source": [
    "ol?"
   ]
  },
  {
   "cell_type": "code",
   "execution_count": null,
   "id": "34d5710a",
   "metadata": {},
   "outputs": [],
   "source": [
    "import pynq\n",
    "print(pynq.ps.Clocks.cpu_mhz)"
   ]
  },
  {
   "cell_type": "code",
   "execution_count": 4,
   "id": "fa3018f6",
   "metadata": {},
   "outputs": [],
   "source": [
    "bram_sp_arr = ol.axi_bram_ctrl_0.mmio.array\n",
    "bram_a_arr = ol.axi_bram_ctrl_1.mmio.array\n",
    "bram_w_arr = ol.axi_bram_ctrl_2.mmio.array\n",
    "bram_o_arr = ol.axi_bram_ctrl_3.mmio.array"
   ]
  },
  {
   "cell_type": "code",
   "execution_count": 9,
   "id": "91b9f394",
   "metadata": {},
   "outputs": [],
   "source": [
    "import numpy as np\n",
    "def matmul_OS (mat1: np.array, mat2: np.array):\n",
    "    M = mat1.shape[0]\n",
    "    K = mat1.shape[1]\n",
    "    N = mat2.shape[1]\n",
    "    assert(mat1.shape[1] == mat2.shape[0])\n",
    "#     assert(K <= 16)\n",
    "    assert(M <= 8 and N <= 8)\n",
    "\n",
    "\n",
    "    # serialize the matrix upload to BRAM (mat1: row wise | mat2: col wise)\n",
    "    serial_mat1 = np.reshape(mat1, -1, order = 'F')\n",
    "    serial_mat2 = mat2.flatten()\n",
    "    \n",
    "    assert(serial_mat1.shape[0] == M*K and serial_mat2.shape[0] == N*K)\n",
    "    # load data to BRAM \n",
    "    bram_a_arr[0:serial_mat1.shape[0]] = serial_mat1\n",
    "    bram_w_arr[0:serial_mat2.shape[0]] = serial_mat2\n",
    "    \n",
    "    # set Special Memory to specify M,K,N and mode (1: OS)\n",
    "    bram_sp_arr[0:6] = [0,1,M,K,N,0]\n",
    "    \n",
    "    # start (set sp(addr0) = 1)\n",
    "    bram_sp_arr[0] = 1\n",
    "    \n",
    "    #while until sp(addr0) => 0 or sp(addr100) =>1 \n",
    "    while(bram_sp_arr[25] != 1):\n",
    "        pass\n",
    "    \n",
    "    reshape_fit = np.reshape(bram_o_arr[0:M*N], (-1,N))\n",
    "    \n",
    "    #return result\n",
    "    return reshape_fit[::-1].astype(np.int32)\n",
    "\n",
    "\n",
    "def matmul_WS (mat1: np.array, mat2: np.array):\n",
    "    M = mat2.shape[0]\n",
    "    K = mat1.shape[0]\n",
    "    N = mat2.shape[1]\n",
    "    assert(mat1.shape[1]==mat2.shape[0])\n",
    "    assert(K <= 8 and M <= 8 and N <= 8) # proj2\n",
    "    \n",
    "    # flip the matrix to satisfy the streaming order. \n",
    "    # And flat the matrix from 2D to 1D. \n",
    "    mat2 = mat2[::-1]\n",
    "    serial_mat1 = mat1.flatten()\n",
    "    serial_mat2 = mat2.flatten()\n",
    "\n",
    "    # load data to BRAM \n",
    "    assert(serial_mat1.shape[0] == M*K and serial_mat2.shape[0] == N*M)\n",
    "    bram_a_arr[0:serial_mat1.shape[0]] = serial_mat1\n",
    "    bram_w_arr[0:serial_mat2.shape[0]] = serial_mat2\n",
    "    \n",
    "    # set Special Memory to specify M,K,N and mode (1: OS)\n",
    "    bram_sp_arr[0:6] = [0,0,M,K,N,1]\n",
    "    # start (set sp(addr0) = 1)\n",
    "    bram_sp_arr[0] = 1\n",
    "    #while until sp(addr0) => 0 or sp(addr100) =>1 \n",
    "    while(bram_sp_arr[25] != 1):\n",
    "        pass\n",
    "        \n",
    "    reshape_fit = np.reshape(bram_o_arr[0:K*N], (-1,N))\n",
    "    return reshape_fit.astype(np.int32)"
   ]
  },
  {
   "cell_type": "code",
   "execution_count": 10,
   "id": "f4501799",
   "metadata": {},
   "outputs": [],
   "source": [
    "import random\n",
    "\n",
    "def test_OS():\n",
    "    score = 0\n",
    "    num_test = 0\n",
    "    ## OUTPUT STATIONARY TEST\n",
    "    for _ in range (100):\n",
    "        M = random.randint(1,8)\n",
    "        K = random.randint(1,8) #long\n",
    "#         print(K)\n",
    "        N = random.randint(1,8)\n",
    "        num_test = num_test +1\n",
    "        mat1 = np.random.randint(-(1<<5),1<<5 -1 ,size=(M,K)) \n",
    "        mat2 = np.random.randint(-(1<<5),1<<5 -1 ,size=(K,N)) \n",
    "        fpga = (matmul_OS(mat1, mat2))\n",
    "        mat_mul = (mat1@mat2)\n",
    "        is_pass = np.equal(fpga,mat_mul).all()\n",
    "#         print(is_pass)\n",
    "#         print(fpga)\n",
    "#         print(mat_mul)\n",
    "#         print(\"====================\")\n",
    "        if(is_pass):\n",
    "            score = score +1\n",
    "            \n",
    "            \n",
    "    return score/num_test * 100"
   ]
  },
  {
   "cell_type": "code",
   "execution_count": 17,
   "id": "20e58933",
   "metadata": {
    "scrolled": false
   },
   "outputs": [],
   "source": [
    "def test_WS():\n",
    "    score = 0\n",
    "    num_test = 0\n",
    "    ## WEIGHT STATIONARY TEST\n",
    "    for _ in range (100):\n",
    "        M = random.randint(1,8)\n",
    "        K = random.randint(1,8)\n",
    "        N = random.randint(1,8)\n",
    "        num_test = num_test +1\n",
    "        mat1 = np.ones((K,M))#np.random.randint(0,2 ,size=(K,M)) \n",
    "        mat2 = np.ones((M,N))#np.random.randint(0,2 ,size=(M,N)) \n",
    "#         print(str(M) +\" \"+str(K) +\" \"+str(N) +\" \")\n",
    "#         print(matmul_WS(mat1, mat2))\n",
    "#         print(mat1@mat2)\n",
    "        if(np.equal(matmul_WS(mat1, mat2), mat1@mat2).all()):\n",
    "            score = score + 1\n",
    "#             print(str(M) +\" \"+str(K) +\" \"+str(N) +\" \")\n",
    "#             print(\"pass\")\n",
    "        else:\n",
    "            print(str(M) +\" \"+str(K) +\" \"+str(N) +\" \")\n",
    "            print(mat1@mat2)\n",
    "            print(matmul_WS(mat1, mat2))\n",
    "#         print(\"============================\")\n",
    "    return score/num_test*100"
   ]
  },
  {
   "cell_type": "code",
   "execution_count": 18,
   "id": "df05a8c8",
   "metadata": {},
   "outputs": [
    {
     "data": {
      "text/plain": [
       "100.0"
      ]
     },
     "execution_count": 18,
     "metadata": {},
     "output_type": "execute_result"
    }
   ],
   "source": [
    "test_OS()"
   ]
  },
  {
   "cell_type": "code",
   "execution_count": 19,
   "id": "fb066b87",
   "metadata": {},
   "outputs": [
    {
     "data": {
      "text/plain": [
       "100.0"
      ]
     },
     "execution_count": 19,
     "metadata": {},
     "output_type": "execute_result"
    }
   ],
   "source": [
    "test_WS()"
   ]
  },
  {
   "cell_type": "code",
   "execution_count": 20,
   "id": "cc7856a7",
   "metadata": {},
   "outputs": [],
   "source": [
    "def project2_test():\n",
    "    print(\" SCORE : \" + str((test_WS() + test_OS()) * 0.5) + \" / 100 \" )"
   ]
  },
  {
   "cell_type": "code",
   "execution_count": 21,
   "id": "33eff4da",
   "metadata": {},
   "outputs": [
    {
     "name": "stdout",
     "output_type": "stream",
     "text": [
      " SCORE : 100.0 / 100 \n"
     ]
    }
   ],
   "source": [
    "project2_test()"
   ]
  },
  {
   "cell_type": "code",
   "execution_count": 8,
   "id": "61320dc5",
   "metadata": {},
   "outputs": [],
   "source": [
    "def probe_time():\n",
    "    import time\n",
    "    M = random.randint(1,8)\n",
    "    K = random.randint(1,8)\n",
    "    N = random.randint(1,8)\n",
    "    mat1 = np.random.randint(-(1<<15),1<<15 -1 ,size=(K,M)) \n",
    "    mat2 = np.random.randint(-(1<<15),1<<15 -1 ,size=(M,N)) \n",
    "    start_fpga_WS = time.time()\n",
    "    matmul_WS(mat1, mat2)\n",
    "    end_fpga_WS = time.time()\n",
    "    print(end_fpga_WS - start_fpga_WS)\n",
    "    \n",
    "    start_fpga_OS = time.time()\n",
    "    matmul_OS(mat1, mat2)\n",
    "    end_fpga_OS = time.time()\n",
    "    print(end_fpga_OS - start_fpga_OS)\n",
    "    \n",
    "    start_python = time.time()\n",
    "    mat1@mat2\n",
    "    end_python = time.time()\n",
    "    print(end_python - start_python)\n",
    "    print(\"ratio_WS   \" + str((end_fpga_WS - start_fpga_WS)/(end_python - start_python)))\n",
    "    print(\"ratio_OS   \" + str((end_fpga_OS - start_fpga_OS)/(end_python - start_python)))"
   ]
  },
  {
   "cell_type": "code",
   "execution_count": 9,
   "id": "dc06c4f4",
   "metadata": {},
   "outputs": [
    {
     "name": "stdout",
     "output_type": "stream",
     "text": [
      "0.006850004196166992\n",
      "0.0027151107788085938\n",
      "7.510185241699219e-05\n",
      "ratio_WS   91.20952380952382\n",
      "ratio_OS   36.15238095238095\n"
     ]
    }
   ],
   "source": [
    "probe_time()"
   ]
  },
  {
   "cell_type": "code",
   "execution_count": null,
   "id": "8c5dd638",
   "metadata": {},
   "outputs": [],
   "source": []
  }
 ],
 "metadata": {
  "kernelspec": {
   "display_name": "Python 3 (ipykernel)",
   "language": "python",
   "name": "python3"
  },
  "language_info": {
   "codemirror_mode": {
    "name": "ipython",
    "version": 3
   },
   "file_extension": ".py",
   "mimetype": "text/x-python",
   "name": "python",
   "nbconvert_exporter": "python",
   "pygments_lexer": "ipython3",
   "version": "3.10.4"
  }
 },
 "nbformat": 4,
 "nbformat_minor": 5
}
