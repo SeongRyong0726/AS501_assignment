{
 "cells": [
  {
   "cell_type": "markdown",
   "id": "177628dc",
   "metadata": {},
   "source": [
    "## For version 2.0.0\n",
    "#### 8x8 systolic array\n",
    "#### Under the system's capability (one matrix size under XXX), you can run large matrix muliplication on FPGA  "
   ]
  },
  {
   "cell_type": "code",
   "execution_count": 4,
   "id": "09ac11c9",
   "metadata": {},
   "outputs": [
    {
     "data": {
      "application/javascript": "\ntry {\nrequire(['notebook/js/codecell'], function(codecell) {\n  codecell.CodeCell.options_default.highlight_modes[\n      'magic_text/x-csrc'] = {'reg':[/^%%microblaze/]};\n  Jupyter.notebook.events.one('kernel_ready.Kernel', function(){\n      Jupyter.notebook.get_cells().map(function(cell){\n          if (cell.cell_type == 'code'){ cell.auto_highlight(); } }) ;\n  });\n});\n} catch (e) {};\n"
     },
     "metadata": {},
     "output_type": "display_data"
    },
    {
     "data": {
      "application/javascript": "\ntry {\nrequire(['notebook/js/codecell'], function(codecell) {\n  codecell.CodeCell.options_default.highlight_modes[\n      'magic_text/x-csrc'] = {'reg':[/^%%pybind11/]};\n  Jupyter.notebook.events.one('kernel_ready.Kernel', function(){\n      Jupyter.notebook.get_cells().map(function(cell){\n          if (cell.cell_type == 'code'){ cell.auto_highlight(); } }) ;\n  });\n});\n} catch (e) {};\n"
     },
     "metadata": {},
     "output_type": "display_data"
    }
   ],
   "source": [
    "from pynq import Overlay\n",
    "ol = Overlay(\"version_1.9.00.bit\")"
   ]
  },
  {
   "cell_type": "code",
   "execution_count": 5,
   "id": "219e6147",
   "metadata": {},
   "outputs": [],
   "source": [
    "ol?"
   ]
  },
  {
   "cell_type": "code",
   "execution_count": 6,
   "id": "34d5710a",
   "metadata": {},
   "outputs": [
    {
     "name": "stdout",
     "output_type": "stream",
     "text": [
      "10.0\n"
     ]
    }
   ],
   "source": [
    "import pynq\n",
    "# You can change the clock frequency #\n",
    "pynq.ps.Clocks.fclk0_mhz = 10 #(unit: MHz)\n",
    "print(pynq.ps.Clocks.fclk0_mhz)"
   ]
  },
  {
   "cell_type": "markdown",
   "id": "592e81de",
   "metadata": {},
   "source": [
    "#### This is the instance of bram controller, you can insert the values via using this."
   ]
  },
  {
   "cell_type": "code",
   "execution_count": 7,
   "id": "fa3018f6",
   "metadata": {},
   "outputs": [],
   "source": [
    "bram_sp_arr = ol.axi_bram_ctrl_0.mmio.array\n",
    "bram_a_arr = ol.axi_bram_ctrl_1.mmio.array\n",
    "bram_w_arr = ol.axi_bram_ctrl_2.mmio.array\n",
    "bram_o_arr = ol.axi_bram_ctrl_3.mmio.array"
   ]
  },
  {
   "cell_type": "markdown",
   "id": "d08f4e32",
   "metadata": {},
   "source": [
    "#### The matmul tile input must be padded to satisfy 8 width.\n",
    "#### bram_sp_arr[0:11] = [0,1,M,K,N, num_iter_row, num_iter_col,num_iter_K , step_a, step_w, step_o]"
   ]
  },
  {
   "cell_type": "code",
   "execution_count": 73,
   "id": "0d5e0bad",
   "metadata": {},
   "outputs": [],
   "source": [
    "import numpy as np\n",
    "import random \n",
    "import time\n",
    "\n",
    "def matmul_OS_proj3  (mat1: np.array, mat2: np.array):\n",
    "    dim = 8\n",
    "    assert(mat1.shape[1] == mat2.shape[0])\n",
    "    M = mat1.shape[0]\n",
    "    K = mat1.shape[1]\n",
    "    N = mat2.shape[1]\n",
    "    num_iter_row = int(M/dim) +1 - int(M%dim == 0)\n",
    "    num_iter_col = int(N/dim) +1 - int(N%dim == 0) \n",
    "    num_iter_K = 1\n",
    "    step_a = 8    # notuse\n",
    "    step_w =  8   # notuse\n",
    "    step_o = 8    # notuse\n",
    "    \n",
    "    # padding mat1 and mat2, so that mat1.shape[0] and mat2.shape[1] be 8\n",
    "    # PADDING\n",
    "    if(M%dim == 0): padding_M = 0\n",
    "    else: padding_M = dim - M%dim\n",
    "    if(N%dim == 0): padding_N = 0\n",
    "    else: padding_N = dim - N%dim\n",
    "    # ======insert tiles into BRAM ===== #\n",
    "    for row in range (num_iter_row):\n",
    "        if(row < num_iter_row -1): mat1_tile = mat1[dim*row:dim*(row+1) , :]\n",
    "        else: mat1_tile = np.pad(mat1[dim*row: , :], ((0,padding_M),(0,0)), 'constant', constant_values =0)\n",
    "        assert(mat1_tile.shape[0] == 8)\n",
    "        # serialize the matrix upload to BRAM (mat1: row wise)\n",
    "        serial_mat1 = np.reshape(mat1_tile, -1, order = 'F')\n",
    "        # load data to BRAM \n",
    "        bram_a_arr[row*dim*K:(row+1)*dim*K] = serial_mat1   \n",
    "    for col in range (num_iter_col):\n",
    "        if(col < num_iter_col -1): mat2_tile = mat2[ : ,col*dim : (col+1)*dim]\n",
    "        else: mat2_tile = np.pad(mat2[ : ,col*dim : ],((0,0),(0,padding_N)), 'constant', constant_values =0)   \n",
    "        assert(mat2_tile.shape[1] == 8)\n",
    "        # serialize the matrix upload to BRAM (mat1: row wise | mat2: col wise)\n",
    "        serial_mat2 = mat2_tile.flatten()\n",
    "        # load data to BRAM \n",
    "        bram_w_arr[col*dim*K:(col+1)*dim*K] = serial_mat2\n",
    "    \n",
    "    #=============== HW RUNNIG ==================#\n",
    "    # set Special Memory to specify M,K,N and mode (1: OS)    \n",
    "    bram_sp_arr[0:11] = [0,1,M,K,N, num_iter_row, num_iter_col,num_iter_K , step_a, step_w, step_o]\n",
    "    # start (set sp(addr0) = 1)\n",
    "    bram_sp_arr[0] = 1\n",
    "    #while until sp(addr0) => 0 or sp(addr100) =>1 \n",
    "    while(bram_sp_arr[25] != 1):\n",
    "        pass\n",
    "    # get data from BARM_O\n",
    "    reshape_fit = np.reshape(bram_o_arr[0:dim*dim*num_iter_row*num_iter_col], (-1,8))\n",
    "    #=============== HW END =====================#\n",
    "    \n",
    "    # Re-locate the tiles \n",
    "    reshape_fit = reshape_fit[::-1]\n",
    "    base = num_iter_col * num_iter_row - 1\n",
    "    for col in range (num_iter_col):\n",
    "        for row in range (num_iter_row):\n",
    "            matmul_result = reshape_fit[dim*(base - (col*num_iter_row+row)):dim*(base - (col*num_iter_row+row-1)), :]\n",
    "            if(col != num_iter_col-1 and row != num_iter_row-1):\n",
    "                matmul_result = matmul_result\n",
    "            elif(col != num_iter_col-1 and row == num_iter_row-1):\n",
    "                matmul_result = matmul_result[padding_M: , :]\n",
    "            elif(col == num_iter_col-1 and row != num_iter_row-1):\n",
    "                matmul_result = matmul_result[: , :dim-padding_N]\n",
    "            else:\n",
    "                matmul_result = matmul_result[padding_M: , :dim-padding_N]\n",
    "            # concat row_direction\n",
    "            if(row == 0):\n",
    "                concat_row_dir = matmul_result\n",
    "                time.sleep(0.001)\n",
    "            else:\n",
    "                concat_row_dir = np.concatenate((concat_row_dir,matmul_result), axis = 0)\n",
    "#                 time.sleep(0.001)\n",
    "        # concat col_direction\n",
    "        if(col == 0):\n",
    "            concat_col_dir = concat_row_dir\n",
    "            time.sleep(0.001)\n",
    "        else:\n",
    "            concat_col_dir = np.concatenate((concat_col_dir,concat_row_dir), axis = 1)\n",
    "#             time.sleep(0.001)\n",
    "            \n",
    "\n",
    "    return concat_col_dir.astype(np.int32)\n",
    "\n",
    "def matmul_WS_proj3 (mat1: np.array, mat2: np.array):\n",
    "    assert(mat1.shape[1]==mat2.shape[0])\n",
    "    dim = 8\n",
    "    depth = 8\n",
    "    # SP_BRAM parameters\n",
    "    M = mat2.shape[0]\n",
    "    K = mat1.shape[0]\n",
    "    N = mat2.shape[1]\n",
    "    num_iter_row = int(M/dim) +1 - int(M%dim == 0)\n",
    "    num_iter_col = int(N/dim) +1 - int(N%dim == 0) \n",
    "    num_iter_K = int(K/depth) +1 -int(K%depth == 0)\n",
    "    step_a = 8\n",
    "    step_w =  8  \n",
    "    step_o = 8\n",
    "\n",
    "    # PADDING\n",
    "    if(K%dim == 0): padding_K = 0\n",
    "    else: padding_K = dim - K%dim\n",
    "    if(M%dim == 0): padding_M = 0\n",
    "    else: padding_M = dim - M%dim\n",
    "    if(N%dim == 0): padding_N = 0\n",
    "    else: padding_N = dim - N%dim\n",
    "        \n",
    "    # =====insert tiles into BRAM  ==== #   \n",
    "    for k in range (num_iter_K):\n",
    "        for i in range (num_iter_row):\n",
    "            if(i < num_iter_row -1 and k < num_iter_K -1):\n",
    "                tile_mat1 = mat1[dim*k:dim*(k+1), dim*i:dim*(i+1)]\n",
    "            elif(i == num_iter_row -1 and k < num_iter_K -1): \n",
    "                tile_mat1 = np.pad(mat1[dim*k:dim*(k+1), dim*i:],((0,0),(0,padding_M)))\n",
    "            elif(i < num_iter_row -1 and k == num_iter_K -1): \n",
    "                tile_mat1 = np.pad(mat1[dim*k:, dim*i:dim*(i+1)],((0,padding_K),(0,0)))\n",
    "            else:\n",
    "                tile_mat1 = np.pad(mat1[dim*k:, dim*i:],((0,padding_K),(0,padding_M)))\n",
    "\n",
    "            serial_tile_mat1 = tile_mat1.flatten()\n",
    "            bram_a_arr[dim*dim*(i+k*num_iter_row):dim*dim*(i+k*num_iter_row+1)] = serial_tile_mat1\n",
    "    \n",
    "    for j in range (num_iter_col):\n",
    "        for i in range (num_iter_row):\n",
    "            if(i < num_iter_row -1 and j < num_iter_col -1):\n",
    "                tile_mat2 = mat2[dim*i:dim*(i+1),dim*j:dim*(j+1)]\n",
    "                tile_mat2 = tile_mat2[::-1]\n",
    "                tile_mat2 = np.pad(tile_mat2, ((0,0),(0,0)))\n",
    "            elif(i < num_iter_row -1 and j == num_iter_col -1):\n",
    "                tile_mat2 = mat2[dim*i:dim*(i+1),dim*j:]\n",
    "                tile_mat2 = tile_mat2[::-1]\n",
    "                tile_mat2 = np.pad(tile_mat2, ((0,0),(0,padding_N)))\n",
    "            elif(i == num_iter_row -1 and j < num_iter_col -1):\n",
    "                tile_mat2 = mat2[dim*i:,dim*j:dim*(j+1)]\n",
    "                tile_mat2 = tile_mat2[::-1]\n",
    "                tile_mat2 = np.pad(tile_mat2, ((0,padding_M),(0,0)))\n",
    "            else:\n",
    "                tile_mat2 = mat2[dim*i:,dim*j:]\n",
    "                tile_mat2 = tile_mat2[::-1]\n",
    "                tile_mat2 = np.pad(tile_mat2, ((0,padding_M),(0,padding_N)))\n",
    "\n",
    "            serial_tile_mat2 = tile_mat2.flatten()\n",
    "            bram_w_arr[dim*dim*(i+j*num_iter_row):dim*dim*(i+j*num_iter_row+1)] = serial_tile_mat2\n",
    "    #=============== HW RUNNIG ==================#\n",
    "    # set Special Memory to specify M,K,N and mode (1: OS)\n",
    "    bram_sp_arr[0:11] = [0,0,M,K,N, num_iter_row, num_iter_col,num_iter_K , step_a, step_w, step_o]\n",
    "                        #x,0,1,2,3,4            ,5            ,6          ,7\n",
    "    # start (set sp(addr0) = 1)\n",
    "    bram_sp_arr[0] = 1\n",
    "    # while until sp(addr0) => 0 or sp(addr100) =>1 \n",
    "    while(bram_sp_arr[25] != 1):\n",
    "        pass\n",
    "    #=============== HW END =====================#\n",
    "    # re-locate the tiles \n",
    "    for n in range (num_iter_col):\n",
    "        if(n == 0):\n",
    "            matmul_result = np.reshape(bram_o_arr[dim*depth*num_iter_K*n : dim*depth*num_iter_K*(n+1)], (-1,dim))\n",
    "            time.sleep(0.001)\n",
    "        else:\n",
    "            matmul_result = np.concatenate((matmul_result, np.reshape(bram_o_arr[dim*depth*num_iter_K*n : dim*depth*num_iter_K*(n+1)], (-1,dim))), axis = 1)\n",
    "\n",
    "    return matmul_result.astype(np.int32)[:K,:N]"
   ]
  },
  {
   "cell_type": "markdown",
   "id": "71c4af81",
   "metadata": {},
   "source": [
    "### The maximum matrix size depends on BRAM size of MODULE. (TODO)\n",
    "### The range of values in the matrix depend on size of K (OS) and size of M (WS) [output is INT32]\n",
    "#### 10000번에 1 2번 맨 앞 2개 값만 다르게 나옴 (max 32)\n",
    "#### WS도 비슷함 증상이\n",
    "#### 둘다 확실한 안정 범위는 (M,N,K < 24)"
   ]
  },
  {
   "cell_type": "code",
   "execution_count": 89,
   "id": "f4501799",
   "metadata": {},
   "outputs": [],
   "source": [
    "import random\n",
    "\n",
    "def test_OS():\n",
    "    score = 0\n",
    "    num_test = 0\n",
    "    ## OUTPUT STATIONARY TEST\n",
    "    for _ in range (1000):\n",
    "        M = random.randint(1,40)\n",
    "        K = random.randint(1,51)\n",
    "        N = random.randint(1,40)\n",
    "        num_test = num_test +1\n",
    "        mat1 = np.random.randint(-(1<<12), 1<<12 ,size=(M,K)) \n",
    "        mat2 = np.random.randint(-(1<<12), 1<<12 ,size=(K,N)) \n",
    "#         print(\"M: \"+str(M) +\" N:  \"+str(K) +\" K: \"+str(N) +\" \")\n",
    "        CPU = mat1@mat2\n",
    "        FPGA = matmul_OS_proj3(mat1, mat2)\n",
    "\n",
    "        if(np.equal(CPU,FPGA).all()):\n",
    "            score = score +1\n",
    "        else:\n",
    "            print(\"M: \"+str(M) +\" N:  \"+str(K) +\" K: \"+str(N) +\" \")\n",
    "            print(CPU)\n",
    "            print(FPGA)\n",
    "            print(np.equal(FPGA, CPU))\n",
    "            \n",
    "    return score/num_test * 100\n",
    "\n",
    "\n",
    "def test_WS():\n",
    "    score = 0\n",
    "    num_test = 0\n",
    "    ## WEIGHT STATIONARY TEST\n",
    "    for iter_ in range (100):\n",
    "        \n",
    "        M = random.randint(1,48)\n",
    "        K = random.randint(1,40)\n",
    "        N = random.randint(1,40)\n",
    "        num_test = num_test +1\n",
    "        mat1 = np.random.randint(-10,10,size=(K,M)) #np.ones((K,M))#\n",
    "        mat2 = np.random.randint(-10, 10 ,size=(M,N))#np.ones((M,N))#\n",
    "#         print(\"M: \"+str(M) +\" N:  \"+str(K) +\" K: \"+str(N) +\" \")\n",
    "        FPGA = matmul_WS_proj3(mat1, mat2)\n",
    "        CPU = mat1@mat2\n",
    "        if(np.equal(FPGA, CPU).all()):\n",
    "            score = score + 1\n",
    "        else:\n",
    "            print(\"M: \"+str(M) +\" N:  \"+str(K) +\" K: \"+str(N) +\" \")\n",
    "            print(CPU)\n",
    "            print(FPGA)\n",
    "            print(np.equal(FPGA, CPU))\n",
    "    return score/num_test*100"
   ]
  },
  {
   "cell_type": "code",
   "execution_count": 86,
   "id": "df05a8c8",
   "metadata": {},
   "outputs": [
    {
     "data": {
      "text/plain": [
       "100.0"
      ]
     },
     "execution_count": 86,
     "metadata": {},
     "output_type": "execute_result"
    }
   ],
   "source": [
    "test_OS()"
   ]
  },
  {
   "cell_type": "code",
   "execution_count": 90,
   "id": "fb066b87",
   "metadata": {},
   "outputs": [
    {
     "data": {
      "text/plain": [
       "100.0"
      ]
     },
     "execution_count": 90,
     "metadata": {},
     "output_type": "execute_result"
    }
   ],
   "source": [
    "test_WS()"
   ]
  },
  {
   "cell_type": "code",
   "execution_count": 77,
   "id": "cc7856a7",
   "metadata": {},
   "outputs": [],
   "source": [
    "def project3_test():\n",
    "    print(\" SCORE : \" + str((test_WS() + test_OS()) * 0.5) + \" / 100 \" )"
   ]
  },
  {
   "cell_type": "code",
   "execution_count": 78,
   "id": "33eff4da",
   "metadata": {},
   "outputs": [
    {
     "name": "stdout",
     "output_type": "stream",
     "text": [
      " SCORE : 100.0 / 100 \n"
     ]
    }
   ],
   "source": [
    "project3_test()"
   ]
  },
  {
   "cell_type": "code",
   "execution_count": 79,
   "id": "61320dc5",
   "metadata": {},
   "outputs": [],
   "source": [
    "def probe_time():\n",
    "    import time\n",
    "    M = 24\n",
    "    K = 24\n",
    "    N = 24\n",
    "    mat1 = np.random.randint(-(1<<15),1<<15 -1 ,size=(K,M)) \n",
    "    mat2 = np.random.randint(-(1<<15),1<<15 -1 ,size=(M,N)) \n",
    "    start_fpga_WS = time.time()\n",
    "    matmul_WS_proj3(mat1, mat2)\n",
    "    end_fpga_WS = time.time()\n",
    "    print(end_fpga_WS - start_fpga_WS)\n",
    "    \n",
    "    start_fpga_OS = time.time()\n",
    "    matmul_OS_proj3(mat1, mat2)\n",
    "    end_fpga_OS = time.time()\n",
    "    print(end_fpga_OS - start_fpga_OS)\n",
    "    \n",
    "    start_python = time.time()\n",
    "    mat1@mat2\n",
    "    end_python = time.time()\n",
    "    print(end_python - start_python)\n",
    "    print(\"ratio_WS   \" + str((end_fpga_WS - start_fpga_WS)/(end_python - start_python)))\n",
    "    print(\"ratio_OS   \" + str((end_fpga_OS - start_fpga_OS)/(end_python - start_python)))"
   ]
  },
  {
   "cell_type": "code",
   "execution_count": 80,
   "id": "54020af6",
   "metadata": {},
   "outputs": [
    {
     "name": "stdout",
     "output_type": "stream",
     "text": [
      "0.024097442626953125\n",
      "0.010792255401611328\n",
      "0.00021147727966308594\n",
      "ratio_WS   113.94813979706878\n",
      "ratio_OS   51.03269447576099\n"
     ]
    }
   ],
   "source": [
    "probe_time()"
   ]
  },
  {
   "cell_type": "code",
   "execution_count": null,
   "id": "16a8929c",
   "metadata": {},
   "outputs": [],
   "source": []
  },
  {
   "cell_type": "code",
   "execution_count": null,
   "id": "33fa4ff9",
   "metadata": {},
   "outputs": [],
   "source": []
  },
  {
   "cell_type": "code",
   "execution_count": null,
   "id": "dc036b6e",
   "metadata": {},
   "outputs": [],
   "source": []
  }
 ],
 "metadata": {
  "kernelspec": {
   "display_name": "Python 3 (ipykernel)",
   "language": "python",
   "name": "python3"
  },
  "language_info": {
   "codemirror_mode": {
    "name": "ipython",
    "version": 3
   },
   "file_extension": ".py",
   "mimetype": "text/x-python",
   "name": "python",
   "nbconvert_exporter": "python",
   "pygments_lexer": "ipython3",
   "version": "3.10.4"
  }
 },
 "nbformat": 4,
 "nbformat_minor": 5
}
